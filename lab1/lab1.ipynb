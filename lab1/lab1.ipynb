{
  "metadata": {
    "kernelspec": {
      "name": "python",
      "display_name": "Python (Pyodide)",
      "language": "python"
    },
    "language_info": {
      "codemirror_mode": {
        "name": "python",
        "version": 3
      },
      "file_extension": ".py",
      "mimetype": "text/x-python",
      "name": "python",
      "nbconvert_exporter": "python",
      "pygments_lexer": "ipython3",
      "version": "3.8"
    }
  },
  "nbformat_minor": 5,
  "nbformat": 4,
  "cells": [
    {
      "id": "b3e94d40-9a59-404e-b145-ad5b0820a15e",
      "cell_type": "code",
      "source": "import pandas as pd\nimport numpy as np\nimport matplotlib.pyplot as plt\nfrom sklearn.ensemble import AdaBoostClassifier\nfrom sklearn.ensemble import RandomForestClassifier\nfrom sklearn.neighbors import KNeighborsClassifier\nfrom sklearn.svm import SVC\nfrom sklearn.tree import DecisionTreeClassifier",
      "metadata": {
        "trusted": true
      },
      "outputs": [],
      "execution_count": 3
    },
    {
      "id": "a468c7b0-5ca7-45fd-8065-df5e97a13ff9",
      "cell_type": "code",
      "source": "df = pd.read_csv(\"plant_growth_data.csv\")",
      "metadata": {
        "trusted": true
      },
      "outputs": [],
      "execution_count": 17
    },
    {
      "id": "51a06663-84d6-47aa-966a-087c3979dbc5",
      "cell_type": "code",
      "source": "df.shape",
      "metadata": {
        "trusted": true,
        "tags": [],
        "editable": true,
        "slideshow": {
          "slide_type": ""
        }
      },
      "outputs": [
        {
          "execution_count": 18,
          "output_type": "execute_result",
          "data": {
            "text/plain": "(193, 7)"
          },
          "metadata": {}
        }
      ],
      "execution_count": 18
    },
    {
      "id": "b4aa36d0-47ff-4889-a01c-0a74fc79c9d5",
      "cell_type": "code",
      "source": "df.head()",
      "metadata": {
        "trusted": true
      },
      "outputs": [
        {
          "execution_count": 19,
          "output_type": "execute_result",
          "data": {
            "text/plain": "  Soil_Type  Sunlight_Hours Water_Frequency Fertilizer_Type  Temperature  \\\n0      loam        5.192294       bi-weekly        chemical    31.719602   \n1     sandy        4.033133          weekly         organic    28.919484   \n2      loam        8.892769       bi-weekly            none    23.179059   \n3      loam        8.241144       bi-weekly            none    18.465886   \n4     sandy        8.374043       bi-weekly         organic    18.128741   \n\n    Humidity  Growth_Milestone  \n0  61.591861                 0  \n1  52.422276                 1  \n2  44.660539                 0  \n3  46.433227                 0  \n4  63.625923                 0  ",
            "text/html": "<div>\n<style scoped>\n    .dataframe tbody tr th:only-of-type {\n        vertical-align: middle;\n    }\n\n    .dataframe tbody tr th {\n        vertical-align: top;\n    }\n\n    .dataframe thead th {\n        text-align: right;\n    }\n</style>\n<table border=\"1\" class=\"dataframe\">\n  <thead>\n    <tr style=\"text-align: right;\">\n      <th></th>\n      <th>Soil_Type</th>\n      <th>Sunlight_Hours</th>\n      <th>Water_Frequency</th>\n      <th>Fertilizer_Type</th>\n      <th>Temperature</th>\n      <th>Humidity</th>\n      <th>Growth_Milestone</th>\n    </tr>\n  </thead>\n  <tbody>\n    <tr>\n      <th>0</th>\n      <td>loam</td>\n      <td>5.192294</td>\n      <td>bi-weekly</td>\n      <td>chemical</td>\n      <td>31.719602</td>\n      <td>61.591861</td>\n      <td>0</td>\n    </tr>\n    <tr>\n      <th>1</th>\n      <td>sandy</td>\n      <td>4.033133</td>\n      <td>weekly</td>\n      <td>organic</td>\n      <td>28.919484</td>\n      <td>52.422276</td>\n      <td>1</td>\n    </tr>\n    <tr>\n      <th>2</th>\n      <td>loam</td>\n      <td>8.892769</td>\n      <td>bi-weekly</td>\n      <td>none</td>\n      <td>23.179059</td>\n      <td>44.660539</td>\n      <td>0</td>\n    </tr>\n    <tr>\n      <th>3</th>\n      <td>loam</td>\n      <td>8.241144</td>\n      <td>bi-weekly</td>\n      <td>none</td>\n      <td>18.465886</td>\n      <td>46.433227</td>\n      <td>0</td>\n    </tr>\n    <tr>\n      <th>4</th>\n      <td>sandy</td>\n      <td>8.374043</td>\n      <td>bi-weekly</td>\n      <td>organic</td>\n      <td>18.128741</td>\n      <td>63.625923</td>\n      <td>0</td>\n    </tr>\n  </tbody>\n</table>\n</div>"
          },
          "metadata": {}
        }
      ],
      "execution_count": 19
    },
    {
      "id": "49c0ea53-b8e1-4d2c-8636-c7d680d2ebaf",
      "cell_type": "code",
      "source": "",
      "metadata": {
        "trusted": true
      },
      "outputs": [],
      "execution_count": null
    }
  ]
}